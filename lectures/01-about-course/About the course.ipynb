{
 "cells": [
  {
   "cell_type": "markdown",
   "metadata": {
    "slideshow": {
     "slide_type": "slide"
    }
   },
   "source": [
    "# The INF3(4)331 course - Higher level programming\n",
    "<img src=\"https://imgs.xkcd.com/comics/python.png\" style=\"width: 400px;\"/>"
   ]
  },
  {
   "cell_type": "markdown",
   "metadata": {
    "slideshow": {
     "slide_type": "slide"
    }
   },
   "source": [
    "## The team\n",
    "\n",
    "  * Lecturer: Simon Funke (simon@simula.no)\n",
    "  * Guest lecturers: \n",
    "      * Benjamin Ragan-Kelley (Simula) \n",
    "      * Jonathan Feinberg (Expert Analytics, unconfirmed)\n",
    "  * Exercises and assignments: Kristian Haug\n",
    "  * Ca 10 teaching assistants and assignment correctors\n",
    "\n",
    "<img src=\"figs/funke.jpg\" style=\"width:200px;display:inline;\"/>\n",
    "<img src=\"figs/kelley.jpg\" style=\"width:200px;display:inline;\"/>\n",
    "<img src=\"figs/feinberg.jpg\" style=\"width:200px;display:inline;\"/>\n"
   ]
  },
  {
   "cell_type": "markdown",
   "metadata": {
    "slideshow": {
     "slide_type": "subslide"
    }
   },
   "source": [
    "## What we use higher level languages for...\n",
    "  * creating efficient working (or problem solving) environments\n",
    "  * developing large-scale simulation software (which solves partial differential equations)\n",
    "  * making flexible and user-friendly software!\n",
    "  * we mostly use the Bash and Python languages (also thaught in this course)"
   ]
  },
  {
   "cell_type": "markdown",
   "metadata": {
    "slideshow": {
     "slide_type": "subslide"
    }
   },
   "source": [
    "## Some of our research migrates into this course\n",
    "\n",
    "Computer simulation of fibre stresses in beating heart - (Hernik Finsberg et al):\n",
    "\n",
    "<video controls src=\"figs/heart.mp4\" />"
   ]
  },
  {
   "cell_type": "markdown",
   "metadata": {
    "slideshow": {
     "slide_type": "subslide"
    }
   },
   "source": [
    "## Some of our research migrates into this course\n",
    "\n",
    "Assimilation and simulation of blood flow through an aneurysm from MRI scans - (Simon Funke et al):\n",
    "<video controls src=\"figs/aneurysm.mp4\"  style=\"width: 600px;\"/>\n",
    "\n",
    "There are lots of opportunities for Master projects related to this course\n",
    "\n"
   ]
  },
  {
   "cell_type": "markdown",
   "metadata": {
    "slideshow": {
     "slide_type": "subslide"
    }
   },
   "source": [
    "## Course content\n",
    "\n",
    "  * Scripting in general\n",
    "  * Basic Bash programming\n",
    "  * Python introduction for beginners\n",
    "  * Fast numerical computations in Python \n",
    "      * Vectorization with NumPy\n",
    "      * Combining Python with C and C++\n",
    "  * Regular expressions\n",
    "  * Programming tools: \n",
    "      * Version control systems\n",
    "      * Tests and Profiling\n",
    "      * Documentation\n",
    "  * Powerful Python modules: \n",
    "      * Graphical (web) interfaces (Jupyter, Flask)\n",
    "      * Data analysis in Python (Pandas)\n",
    "      * Machine learning in Python (scikit-learn)\n",
    " "
   ]
  },
  {
   "cell_type": "markdown",
   "metadata": {},
   "source": [
    "## What you will learn (1): Practical problem solving\n",
    "\n",
    "  * **Problem**: you are not an expert (yet).\n",
    "  * Where to find detailed info, and how to understand it?\n",
    "  * The **efficient programmer** navigates quickly in the jungle of textbooks, man pages, README files, source code examples, Web sites, news groups, ... and has a gut feeling for what to look for.\n",
    "  * The **aim of the course** is to improve your practical problem-solving abilities.\n",
    "- - - - - -\n",
    "*You think you know when you learn, are more sure when you can write, even more when you can teach, but certain when you can program* \n",
    "\n",
    "Alan Perlis"
   ]
  },
  {
   "cell_type": "markdown",
   "metadata": {
    "slideshow": {
     "slide_type": "subslide"
    }
   },
   "source": [
    "## What you will learn (2)\n",
    "\n",
    "  * Scripting in general, but with most examples taken from scientific computing\n",
    "  * Jump into useful scripts and dissect the code\n",
    "  * Learning by doing\n",
    "  * Find examples, look up man pages, online documentation and textbooks on demand\n",
    "  * Get the overview\n",
    "  * Customize existing code\n",
    "  * **Have fun and work with useful things**"
   ]
  },
  {
   "cell_type": "markdown",
   "metadata": {
    "slideshow": {
     "slide_type": "subslide"
    }
   },
   "source": [
    "## Background 1: INF3(4)331 vs INF1900\n",
    "\n",
    "  * Wide range of backgrounds with respect to Python and general programming experience.\n",
    "  * Since INF3331 does not build on INF1900, some overlap is inevitable.\n",
    "  * Two (one?) week(s) of basic Python intro not useful for those with INF1900 background.\n",
    "  * INF3331 has more focus on scripting and practical problem solving."
   ]
  },
  {
   "cell_type": "markdown",
   "metadata": {
    "slideshow": {
     "slide_type": "subslide"
    }
   },
   "source": [
    "## Background 2: INF3331 vs INF4331\n",
    "  * Same lectures and group sessions.\n",
    "  * INF4331 has additional exercises.\n",
    "  * More points are needed to pass INF4331 (will be discussed soon)."
   ]
  },
  {
   "cell_type": "markdown",
   "metadata": {
    "slideshow": {
     "slide_type": "subslide"
    }
   },
   "source": [
    "## Background 3: Mathematics\n",
    "\n",
    "* Very little mathematics is needed to complete the course.\n",
    "* Basic knowledge will make life easier:\n",
    "  * General functions, such as $f(x) = ax +b$, and how they are turned into computer code.\n",
    "  * Standard mathematical functions such as $\\sin(x),\\cos(x)$ and exponential functions.\n",
    "  * Simple matrix-vector operations.\n",
    "* A learn-on-demand strategy should work fine, as long as you do not panic at the sight of a mathematical expression."
   ]
  },
  {
   "cell_type": "markdown",
   "metadata": {
    "slideshow": {
     "slide_type": "subslide"
    }
   },
   "source": [
    "## Teaching material (1)\n",
    "\n",
    "* Lecture slides: https://uio-inf3331.github.io. \n",
    "  * All lectures are video recorded.\n",
    "  * Slides and videos will be published every week.\n",
    "  * If you cannot wait: Videos and slides from previous year are also available.\n",
    "* Associated book (optional): \n",
    "  * H. P. Langtangen: Python Scripting for Computational Science, 3rd/4th edition, Springer 2014. \n",
    "  * Book is based on Python 2, but can easily converted to Python 3. \n",
    "  * Ebook version available through the UiO Library (free).\n",
    "  \n",
    "<img src=\"http://t0.gstatic.com/images?q=tbn:ANd9GcTDbJBbghC-sCXiS1a5OYfEz0G7LhWl2CcEJgLGwwPeC_fA7naQ\"  style=\"width:200px;display:inline;\">\n",
    "\n",
    "\n",
    "\n"
   ]
  },
  {
   "cell_type": "markdown",
   "metadata": {
    "slideshow": {
     "slide_type": "subslide"
    }
   },
   "source": [
    "## Teaching material (2)\n",
    "\n",
    "* I will present relevant literature before every lecture\n",
    "* You must find the rest: manuals, textbooks, Google\n",
    "* Some good Python literature:\n",
    "    * Mark Pilgrim: Dive into Python 3, 2004 (freely available on https://www.diveinto.org/python3/table-of-contents.html)\n",
    "    * Harms and McDonald: The Quick Python Book, 2nd edition, 2010\n",
    "    * Beazley: Python Essential Reference, 4th edition, 2009\n",
    "\n",
    "\n",
    "<img src=\"figs/beazley_grayson_harms.jpg\" >\n"
   ]
  },
  {
   "cell_type": "markdown",
   "metadata": {
    "slideshow": {
     "slide_type": "subslide"
    }
   },
   "source": [
    "## An outlook of the first lectures \n",
    "\n",
    "  * Today: Introduction: scripting vs regular programming, version control systems\n",
    "  * Next week: Basic shell scripting\n",
    "  * Week 3: Python introduction (not needed if you have INF1100/INF1900)\n",
    "  * ..."
   ]
  },
  {
   "cell_type": "markdown",
   "metadata": {
    "slideshow": {
     "slide_type": "subslide"
    }
   },
   "source": [
    "## Group sessions and assignments (1)\n",
    "\n",
    "  * Two types of assignments:\n",
    "    1. Mandatory assignments (homework)\n",
    "    2. Group session exercises (will be solved during weekly groups sessions)\n",
    "  * Assignments will be published before each lecture on the [course webpage](http://www.uio.no/studier/emner/matnat/ifi/INF3331/h18/oppgaver.html).\n",
    "  * First assignment has been published today!\n",
    "\n",
    "\n",
    "**Groups sessions and exercises are the core of the course: problem solving is in focus**."
   ]
  },
  {
   "cell_type": "markdown",
   "metadata": {
    "slideshow": {
     "slide_type": "subslide"
    }
   },
   "source": [
    "## Group classes and assignments (2)\n",
    "\n",
    "Mandatory assignments:\n",
    "  * Mix of short (1 week) and large (3+1 weeks) assignments.\n",
    "  * Deadlines are published on course website.\n",
    "  * Required to pass the course.\n",
    "  \n",
    "Group sessions:\n",
    "  * You will work on the group exercises and can ask questions on your mandatory assignment.\n",
    "  * No strict requirement to show up in group classes, but useful to ask questions and discuss solutions.  \n",
    "  * Group classes start next week."
   ]
  },
  {
   "cell_type": "markdown",
   "metadata": {
    "slideshow": {
     "slide_type": "subslide"
    }
   },
   "source": [
    "## Mandatory assignments and peer review\n",
    "\n",
    "  * Each student solves the mandatory assignments individually.\n",
    "  * Large assignments have a peer review phase.\n",
    "  * All assignments and reviews are corrected by INF3(4)331 correctors and give points towards passing the course."
   ]
  },
  {
   "cell_type": "markdown",
   "metadata": {
    "slideshow": {
     "slide_type": "subslide"
    }
   },
   "source": [
    "## Peer-review of large assignments\n",
    "\n",
    "  * After the assignment is handed in, you are given a *marking group* (rettegruppe) with 1-3 students.\n",
    "  * Each marking group will get the access to the solutions of 1-3 other students.\n",
    "  * You marking group must write a report, which comments and evaluates the quality of the programming, and provide constructive feedback for each solution.\n",
    "  * When, where and how you organize the evaluation is up to you, but the intention is to do the evaluation in groups.\n",
    "  * Deadline for reports: one week after you have been assigned to the marking groups."
   ]
  },
  {
   "cell_type": "markdown",
   "metadata": {
    "slideshow": {
     "slide_type": "subslide"
    }
   },
   "source": [
    "## How to pass the course\n",
    "\n",
    "  * **No exam, no grades**! \n",
    "  * **Only pass/fail**!\n",
    "  * Mandatory assignments and peer-review give points towards passing the course.\n",
    "  * NF3331: The total number of points will be 150. The course is passed with a minimum of 120 points.\n",
    "  * INF4331: The total number of points will be 180. The course is passed with a minimum of 145 points."
   ]
  },
  {
   "cell_type": "markdown",
   "metadata": {
    "slideshow": {
     "slide_type": "subslide"
    }
   },
   "source": [
    "## Mandatory assignments are handed in using github\n",
    "\n",
    "  * Everyone needs to obtain an account on [github](http://www.github.com) (its free).\n",
    "  * We will establish a *classroom* on github. For this we need from everyone:\n",
    "      * Full name\n",
    "      * Email\n",
    "      * UiO username\n",
    "      * Github user name\n",
    "  * For this, please fill out a web form (see link on next slide)\n",
    "  * We will create a git repository on github where you can upload the assignment solutions."
   ]
  },
  {
   "cell_type": "markdown",
   "metadata": {
    "slideshow": {
     "slide_type": "subslide"
    }
   },
   "source": [
    "## Software for this course\n",
    "\n",
    "  * Git (see https://git-scm.com)\n",
    "  * Bash runs on Windows (via `cygwin`, or maybe even Windows Subsystem for Linux), Mac, Linux.\n",
    "  * Python 3 runs on Windows, Mac, Linux (we recommend the `anaconda` distribution).\n",
    "  * C (GCC) runs on Windows, Mac, Linux.\n",
    "  * Mac and Linux computers should work flawlessly, Windows probably also."
   ]
  },
  {
   "cell_type": "markdown",
   "metadata": {
    "slideshow": {
     "slide_type": "subslide"
    }
   },
   "source": [
    "## We will use Piazza as a knowledge platform\n",
    "\n",
    "  * Allows students to ask and answer questions.\n",
    "  * Great discussion platform.\n",
    "  * Lecturers/teaching assistants will be active on the platform to help.\n",
    "  * Sign up: [http://piazza.com/uio.no/fall2018/inf3331inf4331](http://piazza.com/uio.no/fall2018/inf3331inf4331)\n",
    "<img src=\"figs/piazza.jpg\" style=\"width: 1200px;\"/>  "
   ]
  },
  {
   "cell_type": "markdown",
   "metadata": {
    "slideshow": {
     "slide_type": "subslide"
    }
   },
   "source": [
    "## Why has the course been organized like this?\n",
    "\n",
    "  * \"Problem solving\" is best learnt by solving a large number of problems.\n",
    "  * With limited resources, this is the only way we can maintain the large number of mandatory assignments.\n",
    "  * You learn from reading and inspecting each other's code.\n",
    "  * **Goal**: more flexible implementation, but which still allows a high volume of programming exercises.\n"
   ]
  },
  {
   "cell_type": "markdown",
   "metadata": {
    "slideshow": {
     "slide_type": "subslide"
    }
   },
   "source": [
    "## Things to do in the first week\n",
    "\n",
    "  1. Create a github account.\n",
    "  2. Register course attendence on https://goo.gl/aMKxdx\n",
    "  3. Wait one day:\n",
    "      * You will get an invitation email from github to join a organization. \n",
    "      * Once you did this you will have access to your private repository.      \n",
    "      * It will be named https://github.com/UiO-INF3331/INF3331-uio_username \n",
    "       (even if you take INF4331).\n",
    "  4. Sign up to Piazza: http://piazza.com/uio.no/fall2018/inf3331inf4331\n",
    "  6. Solve the first assignment: http://www.uio.no/studier/emner/matnat/ifi/INF3331/h18/oppgaver.html.\n",
    "  \n",
    "** Important: ** Do steps 1-4 before this Friday!"
   ]
  },
  {
   "cell_type": "markdown",
   "metadata": {
    "slideshow": {
     "slide_type": "subslide"
    }
   },
   "source": [
    "## Final words\n",
    "\n",
    "* For more information, see the [course web page](http://www.uio.no/studier/emner/matnat/ifi/INF3331/h18/oppgaver.html).\n",
    "\n",
    "* Use Piazza to ask, and answer questions.\n",
    "* How can we make INF3(4)331 more interesting and challenging for students with different backgrounds? Email me: `simon@simula.no`"
   ]
  }
 ],
 "metadata": {
  "celltoolbar": "Slideshow",
  "kernelspec": {
   "display_name": "Python 3",
   "language": "python",
   "name": "python3"
  },
  "language_info": {
   "codemirror_mode": {
    "name": "ipython",
    "version": 3
   },
   "file_extension": ".py",
   "mimetype": "text/x-python",
   "name": "python",
   "nbconvert_exporter": "python",
   "pygments_lexer": "ipython3",
   "version": "3.5.2"
  },
  "livereveal": {
   "scroll": true,
   "start_slideshow_at": "selected",
   "theme": "serif"
  }
 },
 "nbformat": 4,
 "nbformat_minor": 1
}
